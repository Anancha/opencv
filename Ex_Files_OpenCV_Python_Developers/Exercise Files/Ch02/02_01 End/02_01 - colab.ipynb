{
  "cells": [
    {
      "cell_type": "code",
      "execution_count": 3,
      "metadata": {
        "id": "G8_n4YPYjIJy"
      },
      "outputs": [],
      "source": [
        "import numpy as np\n",
        "import cv2\n",
        "#from google.colab.patches import cv2_imshow"
      ]
    },
    {
      "cell_type": "code",
      "execution_count": 4,
      "metadata": {
        "id": "IJy6Yu7ejhkR"
      },
      "outputs": [],
      "source": [
        "img = cv2.imread(\"opencv-logo.png\")"
      ]
    },
    {
      "cell_type": "code",
      "execution_count": 5,
      "metadata": {
        "colab": {
          "base_uri": "https://localhost:8080/",
          "height": 756
        },
        "id": "KgW1RKc8jsiQ",
        "outputId": "4711eb0c-23b8-4fdd-e66a-728377031ac0"
      },
      "outputs": [
        {
          "ename": "NameError",
          "evalue": "name 'cv2_imshow' is not defined",
          "output_type": "error",
          "traceback": [
            "\u001b[1;31m---------------------------------------------------------------------------\u001b[0m",
            "\u001b[1;31mNameError\u001b[0m                                 Traceback (most recent call last)",
            "\u001b[1;32mc:\\Users\\asus\\Documents\\opencv\\Ex_Files_OpenCV_Python_Developers\\Exercise Files\\Ch02\\02_01 End\\02_01 - colab.ipynb Cell 3\u001b[0m in \u001b[0;36m<cell line: 1>\u001b[1;34m()\u001b[0m\n\u001b[1;32m----> <a href='vscode-notebook-cell:/c%3A/Users/asus/Documents/opencv/Ex_Files_OpenCV_Python_Developers/Exercise%20Files/Ch02/02_01%20End/02_01%20-%20colab.ipynb#W2sZmlsZQ%3D%3D?line=0'>1</a>\u001b[0m cv2_imshow(img)\n",
            "\u001b[1;31mNameError\u001b[0m: name 'cv2_imshow' is not defined"
          ]
        }
      ],
      "source": [
        "cv2_imshow(img)"
      ]
    },
    {
      "cell_type": "code",
      "execution_count": null,
      "metadata": {
        "colab": {
          "base_uri": "https://localhost:8080/"
        },
        "id": "yZpjxwwLkOOB",
        "outputId": "d8167ede-be5d-44ed-a7f0-ef01e2a33061"
      },
      "outputs": [
        {
          "data": {
            "text/plain": [
              "True"
            ]
          },
          "execution_count": 5,
          "metadata": {},
          "output_type": "execute_result"
        }
      ],
      "source": [
        "cv2.imwrite(\"output.jpg\", img)"
      ]
    },
    {
      "cell_type": "code",
      "execution_count": null,
      "metadata": {
        "colab": {
          "base_uri": "https://localhost:8080/"
        },
        "id": "kHuN3S4YkZ8K",
        "outputId": "32f215bc-55a9-4903-fa21-3500ae40bca5"
      },
      "outputs": [
        {
          "data": {
            "text/plain": [
              "24903"
            ]
          },
          "execution_count": 7,
          "metadata": {},
          "output_type": "execute_result"
        }
      ],
      "source": [
        "import os\n",
        "os.stat(\"opencv-logo.png\").st_size"
      ]
    },
    {
      "cell_type": "code",
      "execution_count": null,
      "metadata": {
        "colab": {
          "base_uri": "https://localhost:8080/"
        },
        "id": "Jx3n1EDhkzOK",
        "outputId": "3e98a08c-f006-43f6-9d63-8df73e3d36cd"
      },
      "outputs": [
        {
          "data": {
            "text/plain": [
              "65659"
            ]
          },
          "execution_count": 8,
          "metadata": {},
          "output_type": "execute_result"
        }
      ],
      "source": [
        "os.stat(\"output.jpg\").st_size"
      ]
    }
  ],
  "metadata": {
    "colab": {
      "provenance": []
    },
    "kernelspec": {
      "display_name": "opencv",
      "language": "python",
      "name": "python3"
    },
    "language_info": {
      "codemirror_mode": {
        "name": "ipython",
        "version": 3
      },
      "file_extension": ".py",
      "mimetype": "text/x-python",
      "name": "python",
      "nbconvert_exporter": "python",
      "pygments_lexer": "ipython3",
      "version": "3.9.12"
    },
    "vscode": {
      "interpreter": {
        "hash": "84cef06bf027f29a438189ab506d49768070fb9ee417f103c84c80bdf5e5adce"
      }
    }
  },
  "nbformat": 4,
  "nbformat_minor": 0
}
